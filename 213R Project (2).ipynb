{
 "cells": [
  {
   "cell_type": "code",
   "execution_count": 1042,
   "metadata": {},
   "outputs": [],
   "source": [
    "import pandas as pd\n",
    "import numpy as np\n",
    "import matplotlib.pyplot as plt\n",
    "%matplotlib inline\n",
    "import scipy as sp\n",
    "\n",
    "from sklearn import linear_model\n",
    "from sklearn import metrics\n",
    "from sklearn.grid_search import GridSearchCV\n",
    "\n",
    "import seaborn as sns\n",
    "import missingno as msno\n",
    "\n",
    "from sklearn.neighbors import KNeighborsClassifier, KNeighborsRegressor\n",
    "from sklearn.ensemble import RandomForestClassifier\n",
    "from sklearn.model_selection import train_test_split\n",
    "from sklearn.metrics import f1_score, classification_report, accuracy_score, mean_squared_error\n",
    "import pprint\n",
    "from sklearn.metrics import precision_recall_fscore_support"
   ]
  },
  {
   "cell_type": "markdown",
   "metadata": {},
   "source": [
    "Just imported every classification tool you could ever need, and now I'm loading up the data, and turning our target labels into numeric, rather than string data (essential for doing the Random Forest model later on)"
   ]
  },
  {
   "cell_type": "code",
   "execution_count": 1043,
   "metadata": {},
   "outputs": [],
   "source": [
    "fulldf= pd.read_csv(\"C:/Users/Izzy/Desktop/213R/project1.csv\")\n",
    "df= pd.read_csv(\"C:/Users/Izzy/Desktop/213R/project1.csv\")"
   ]
  },
  {
   "cell_type": "code",
   "execution_count": 1044,
   "metadata": {},
   "outputs": [],
   "source": [
    "df['contnum'] = df['cont'].copy()\n",
    "df['contnum'].replace('Asia', 1, inplace=True)\n",
    "df['contnum'].replace('Africa', 2, inplace=True)\n",
    "df['contnum'].replace('Europe', 3, inplace=True)\n",
    "df['contnum'].replace('North America', 4, inplace=True)\n",
    "df['contnum'].replace('Oceania', 5, inplace=True)\n",
    "df['contnum'].replace('South America', 6, inplace=True)"
   ]
  },
  {
   "cell_type": "markdown",
   "metadata": {},
   "source": [
    "## Data Cleaning"
   ]
  },
  {
   "cell_type": "markdown",
   "metadata": {},
   "source": [
    "With the data loaded in, we found that it wasn't quite ready to go.  Symbols had carried over from the csv, and so we had to eliminate those before we could perform basic functions and transformations on the features."
   ]
  },
  {
   "cell_type": "code",
   "execution_count": 1045,
   "metadata": {
    "scrolled": false
   },
   "outputs": [],
   "source": [
    "df=df.replace(',', '' , regex=True)"
   ]
  },
  {
   "cell_type": "code",
   "execution_count": 1046,
   "metadata": {
    "scrolled": false
   },
   "outputs": [],
   "source": [
    "df=df.replace('%', '' , regex=True)"
   ]
  },
  {
   "cell_type": "code",
   "execution_count": 1047,
   "metadata": {
    "scrolled": false
   },
   "outputs": [],
   "source": [
    "df['GDP_PPP_percapita']=df['GDP_PPP_percapita'].str.replace('$', '')"
   ]
  },
  {
   "cell_type": "code",
   "execution_count": 1048,
   "metadata": {},
   "outputs": [
    {
     "data": {
      "text/html": [
       "<div>\n",
       "<style scoped>\n",
       "    .dataframe tbody tr th:only-of-type {\n",
       "        vertical-align: middle;\n",
       "    }\n",
       "\n",
       "    .dataframe tbody tr th {\n",
       "        vertical-align: top;\n",
       "    }\n",
       "\n",
       "    .dataframe thead th {\n",
       "        text-align: right;\n",
       "    }\n",
       "</style>\n",
       "<table border=\"1\" class=\"dataframe\">\n",
       "  <thead>\n",
       "    <tr style=\"text-align: right;\">\n",
       "      <th></th>\n",
       "      <th>cont</th>\n",
       "      <th>name</th>\n",
       "      <th>Pop2013</th>\n",
       "      <th>Area_sqkm</th>\n",
       "      <th>coastline_km</th>\n",
       "      <th>PopGrowthRate</th>\n",
       "      <th>BirthRate</th>\n",
       "      <th>DeathRate</th>\n",
       "      <th>NetMigrationRate</th>\n",
       "      <th>MaternalMortalityRate</th>\n",
       "      <th>...</th>\n",
       "      <th>LifeExpectancy</th>\n",
       "      <th>TotalFertilityRate</th>\n",
       "      <th>AdultObesityRate</th>\n",
       "      <th>HealthExpend</th>\n",
       "      <th>ChildUnderwt</th>\n",
       "      <th>ChildUnderwtYr</th>\n",
       "      <th>GDP PPP</th>\n",
       "      <th>GDP_PPP_percapita</th>\n",
       "      <th>Percent Urban</th>\n",
       "      <th>contnum</th>\n",
       "    </tr>\n",
       "  </thead>\n",
       "  <tbody>\n",
       "    <tr>\n",
       "      <th>0</th>\n",
       "      <td>Asia</td>\n",
       "      <td>Afghanistan</td>\n",
       "      <td>31108077</td>\n",
       "      <td>652230</td>\n",
       "      <td>0</td>\n",
       "      <td>2.25</td>\n",
       "      <td>39.05</td>\n",
       "      <td>14.35</td>\n",
       "      <td>-2.16</td>\n",
       "      <td>460.0</td>\n",
       "      <td>...</td>\n",
       "      <td>50.11</td>\n",
       "      <td>5.54</td>\n",
       "      <td>2.2</td>\n",
       "      <td>7.6</td>\n",
       "      <td>32.9</td>\n",
       "      <td>2004.0</td>\n",
       "      <td>34290000000</td>\n",
       "      <td>1100</td>\n",
       "      <td>23.50</td>\n",
       "      <td>1</td>\n",
       "    </tr>\n",
       "    <tr>\n",
       "      <th>1</th>\n",
       "      <td>Europe</td>\n",
       "      <td>Albania</td>\n",
       "      <td>3011405</td>\n",
       "      <td>28748</td>\n",
       "      <td>362</td>\n",
       "      <td>0.29</td>\n",
       "      <td>12.57</td>\n",
       "      <td>6.36</td>\n",
       "      <td>-3.32</td>\n",
       "      <td>27.0</td>\n",
       "      <td>...</td>\n",
       "      <td>77.77</td>\n",
       "      <td>1.49</td>\n",
       "      <td>21.3</td>\n",
       "      <td>6.6</td>\n",
       "      <td>6.3</td>\n",
       "      <td>2009.0</td>\n",
       "      <td>26540000000</td>\n",
       "      <td>8200</td>\n",
       "      <td>52</td>\n",
       "      <td>3</td>\n",
       "    </tr>\n",
       "    <tr>\n",
       "      <th>2</th>\n",
       "      <td>Africa</td>\n",
       "      <td>Algeria</td>\n",
       "      <td>38087812</td>\n",
       "      <td>2381741</td>\n",
       "      <td>998</td>\n",
       "      <td>1.90</td>\n",
       "      <td>24.25</td>\n",
       "      <td>4.31</td>\n",
       "      <td>-0.93</td>\n",
       "      <td>97.0</td>\n",
       "      <td>...</td>\n",
       "      <td>76.18</td>\n",
       "      <td>2.78</td>\n",
       "      <td>16.0</td>\n",
       "      <td>4.2</td>\n",
       "      <td>3.7</td>\n",
       "      <td>2005.0</td>\n",
       "      <td>277400000000</td>\n",
       "      <td>7600</td>\n",
       "      <td>73</td>\n",
       "      <td>2</td>\n",
       "    </tr>\n",
       "    <tr>\n",
       "      <th>3</th>\n",
       "      <td>Oceania</td>\n",
       "      <td>American Samoa</td>\n",
       "      <td>54719</td>\n",
       "      <td>199</td>\n",
       "      <td>116</td>\n",
       "      <td>-0.40</td>\n",
       "      <td>22.84</td>\n",
       "      <td>4.62</td>\n",
       "      <td>-22.17</td>\n",
       "      <td>NaN</td>\n",
       "      <td>...</td>\n",
       "      <td>74.68</td>\n",
       "      <td>3.04</td>\n",
       "      <td>74.6</td>\n",
       "      <td>NaN</td>\n",
       "      <td>NaN</td>\n",
       "      <td>NaN</td>\n",
       "      <td>575300000</td>\n",
       "      <td>8000</td>\n",
       "      <td>93</td>\n",
       "      <td>5</td>\n",
       "    </tr>\n",
       "    <tr>\n",
       "      <th>4</th>\n",
       "      <td>Europe</td>\n",
       "      <td>Andorra</td>\n",
       "      <td>85293</td>\n",
       "      <td>468</td>\n",
       "      <td>0</td>\n",
       "      <td>0.22</td>\n",
       "      <td>8.88</td>\n",
       "      <td>6.67</td>\n",
       "      <td>0.00</td>\n",
       "      <td>NaN</td>\n",
       "      <td>...</td>\n",
       "      <td>82.58</td>\n",
       "      <td>1.37</td>\n",
       "      <td>25.2</td>\n",
       "      <td>7.5</td>\n",
       "      <td>NaN</td>\n",
       "      <td>NaN</td>\n",
       "      <td>3163000000</td>\n",
       "      <td>37200</td>\n",
       "      <td>88</td>\n",
       "      <td>3</td>\n",
       "    </tr>\n",
       "  </tbody>\n",
       "</table>\n",
       "<p>5 rows × 21 columns</p>\n",
       "</div>"
      ],
      "text/plain": [
       "      cont            name   Pop2013 Area_sqkm coastline_km  PopGrowthRate  \\\n",
       "0     Asia     Afghanistan  31108077    652230            0           2.25   \n",
       "1   Europe         Albania   3011405     28748          362           0.29   \n",
       "2   Africa         Algeria  38087812   2381741          998           1.90   \n",
       "3  Oceania  American Samoa     54719       199          116          -0.40   \n",
       "4   Europe         Andorra     85293       468            0           0.22   \n",
       "\n",
       "   BirthRate  DeathRate  NetMigrationRate  MaternalMortalityRate   ...    \\\n",
       "0      39.05      14.35             -2.16                  460.0   ...     \n",
       "1      12.57       6.36             -3.32                   27.0   ...     \n",
       "2      24.25       4.31             -0.93                   97.0   ...     \n",
       "3      22.84       4.62            -22.17                    NaN   ...     \n",
       "4       8.88       6.67              0.00                    NaN   ...     \n",
       "\n",
       "   LifeExpectancy  TotalFertilityRate  AdultObesityRate  HealthExpend  \\\n",
       "0           50.11                5.54               2.2           7.6   \n",
       "1           77.77                1.49              21.3           6.6   \n",
       "2           76.18                2.78              16.0           4.2   \n",
       "3           74.68                3.04              74.6           NaN   \n",
       "4           82.58                1.37              25.2           7.5   \n",
       "\n",
       "   ChildUnderwt  ChildUnderwtYr       GDP PPP GDP_PPP_percapita Percent Urban  \\\n",
       "0          32.9          2004.0   34290000000             1100          23.50   \n",
       "1           6.3          2009.0   26540000000             8200             52   \n",
       "2           3.7          2005.0  277400000000             7600             73   \n",
       "3           NaN             NaN     575300000             8000             93   \n",
       "4           NaN             NaN    3163000000            37200             88   \n",
       "\n",
       "  contnum  \n",
       "0       1  \n",
       "1       3  \n",
       "2       2  \n",
       "3       5  \n",
       "4       3  \n",
       "\n",
       "[5 rows x 21 columns]"
      ]
     },
     "execution_count": 1048,
     "metadata": {},
     "output_type": "execute_result"
    }
   ],
   "source": [
    "df.head()"
   ]
  },
  {
   "cell_type": "markdown",
   "metadata": {},
   "source": [
    "Looking at the data printed above, we can see that those symbols have been removed.  A few more steps before we're ready to go-\n",
    "First we convert all of the numeric features to floats so that they will be recognized as numeric.  \n",
    "\n",
    "Next, we do some feature engineering, creating a population density feature and coastline to area squared ratio using existing features."
   ]
  },
  {
   "cell_type": "code",
   "execution_count": 1049,
   "metadata": {},
   "outputs": [],
   "source": [
    "df.loc[:, 'Pop2013':'Percent Urban']= df.loc[:, 'Pop2013':'Percent Urban'].astype(float)"
   ]
  },
  {
   "cell_type": "code",
   "execution_count": 1050,
   "metadata": {},
   "outputs": [],
   "source": [
    "df['PopDens']= df['Pop2013']/df['Area_sqkm']"
   ]
  },
  {
   "cell_type": "code",
   "execution_count": 1051,
   "metadata": {},
   "outputs": [],
   "source": [
    "df['Coast_Area_Ratio'] = df['coastline_km'] / df['Area_sqkm']"
   ]
  },
  {
   "cell_type": "code",
   "execution_count": 1052,
   "metadata": {
    "scrolled": true
   },
   "outputs": [
    {
     "name": "stdout",
     "output_type": "stream",
     "text": [
      "<class 'pandas.core.frame.DataFrame'>\n",
      "RangeIndex: 223 entries, 0 to 222\n",
      "Data columns (total 23 columns):\n",
      "cont                     223 non-null object\n",
      "name                     223 non-null object\n",
      "Pop2013                  223 non-null float64\n",
      "Area_sqkm                223 non-null float64\n",
      "coastline_km             223 non-null float64\n",
      "PopGrowthRate            223 non-null float64\n",
      "BirthRate                223 non-null float64\n",
      "DeathRate                223 non-null float64\n",
      "NetMigrationRate         220 non-null float64\n",
      "MaternalMortalityRate    183 non-null float64\n",
      "IMR                      222 non-null float64\n",
      "LifeExpectancy           222 non-null float64\n",
      "TotalFertilityRate       222 non-null float64\n",
      "AdultObesityRate         190 non-null float64\n",
      "HealthExpend             190 non-null float64\n",
      "ChildUnderwt             132 non-null float64\n",
      "ChildUnderwtYr           132 non-null float64\n",
      "GDP PPP                  222 non-null float64\n",
      "GDP_PPP_percapita        223 non-null float64\n",
      "Percent Urban            221 non-null float64\n",
      "contnum                  223 non-null int64\n",
      "PopDens                  223 non-null float64\n",
      "Coast_Area_Ratio         223 non-null float64\n",
      "dtypes: float64(20), int64(1), object(2)\n",
      "memory usage: 40.1+ KB\n"
     ]
    }
   ],
   "source": [
    "df.info()"
   ]
  },
  {
   "cell_type": "markdown",
   "metadata": {},
   "source": [
    "The type of data looks good, so now we'll move to imputing values for missing data. "
   ]
  },
  {
   "cell_type": "code",
   "execution_count": 1053,
   "metadata": {},
   "outputs": [
    {
     "data": {
      "text/plain": [
       "<matplotlib.axes._subplots.AxesSubplot at 0x20f3776b0b8>"
      ]
     },
     "execution_count": 1053,
     "metadata": {},
     "output_type": "execute_result"
    },
    {
     "data": {
      "image/png": "[encoded data removed]",
      "text/plain": [
       "<Figure size 1800x720 with 2 Axes>"
      ]
     },
     "metadata": {},
     "output_type": "display_data"
    }
   ],
   "source": [
    "msno.matrix(fulldf)"
   ]
  },
  {
   "cell_type": "code",
   "execution_count": 1054,
   "metadata": {},
   "outputs": [
    {
     "data": {
      "text/plain": [
       "cont                      0\n",
       "name                      0\n",
       "Pop2013                   0\n",
       "Area_sqkm                 0\n",
       "coastline_km              0\n",
       "PopGrowthRate             0\n",
       "BirthRate                 0\n",
       "DeathRate                 0\n",
       "NetMigrationRate          3\n",
       "MaternalMortalityRate    40\n",
       "IMR                       1\n",
       "LifeExpectancy            1\n",
       "TotalFertilityRate        1\n",
       "AdultObesityRate         33\n",
       "HealthExpend             33\n",
       "ChildUnderwt             91\n",
       "ChildUnderwtYr           91\n",
       "GDP PPP                   1\n",
       "GDP_PPP_percapita         0\n",
       "Percent Urban             2\n",
       "contnum                   0\n",
       "PopDens                   0\n",
       "Coast_Area_Ratio          0\n",
       "dtype: int64"
      ]
     },
     "execution_count": 1054,
     "metadata": {},
     "output_type": "execute_result"
    }
   ],
   "source": [
    "df.isnull().sum()"
   ]
  },
  {
   "cell_type": "markdown",
   "metadata": {},
   "source": [
    "As we've seen above, we've got a few features with substantial missing data.  The measures for children underweight have so many observations missing that we decided to drop the feature alltogether. \n",
    "\n",
    "For the rest, we created a function to fill the missing observations with the median value of that variable. \n",
    "\n",
    "We tried to figure out a way to create a function that would fill missing data with the median value of that variable within the continent the country belongs to, but to no avail- though below our function you can see our attempt."
   ]
  },
  {
   "cell_type": "code",
   "execution_count": 1055,
   "metadata": {},
   "outputs": [],
   "source": [
    "df.drop(columns = 'ChildUnderwt', inplace=True)\n",
    "df.drop(columns = 'ChildUnderwtYr', inplace=True)"
   ]
  },
  {
   "cell_type": "code",
   "execution_count": 1056,
   "metadata": {},
   "outputs": [],
   "source": [
    "def mynafill(var):\n",
    "    df[var].fillna((df[var].median()), inplace=True)\n",
    "    \n",
    "      \n",
    "    #df[var] = df[var].groupby(df['cont']).fillna(df[var].groupby(df['cont']).mean())"
   ]
  },
  {
   "cell_type": "code",
   "execution_count": 1057,
   "metadata": {},
   "outputs": [],
   "source": [
    "mynafill(\"MaternalMortalityRate\")\n",
    "mynafill(\"NetMigrationRate\")\n",
    "mynafill(\"IMR\")\n",
    "mynafill(\"LifeExpectancy\")\n",
    "mynafill(\"TotalFertilityRate\")\n",
    "mynafill(\"AdultObesityRate\")\n",
    "mynafill(\"HealthExpend\")\n",
    "mynafill(\"GDP PPP\")\n",
    "mynafill(\"Percent Urban\")"
   ]
  },
  {
   "cell_type": "code",
   "execution_count": 1058,
   "metadata": {
    "scrolled": false
   },
   "outputs": [
    {
     "data": {
      "text/plain": [
       "<matplotlib.axes._subplots.AxesSubplot at 0x20f378289b0>"
      ]
     },
     "execution_count": 1058,
     "metadata": {},
     "output_type": "execute_result"
    },
    {
     "data": {
      "image/png": "[encoded data removed]",
      "text/plain": [
       "<Figure size 1800x720 with 2 Axes>"
      ]
     },
     "metadata": {},
     "output_type": "display_data"
    }
   ],
   "source": [
    "msno.matrix(df)"
   ]
  },
  {
   "cell_type": "markdown",
   "metadata": {},
   "source": [
    "## Modeling\n",
    "\n",
    "With the cleaning all done, we pre now split the dataframe, separating our label and target columns from the features.  Afterwords, we check to make sure it all looks good.  "
   ]
  },
  {
   "cell_type": "code",
   "execution_count": 1059,
   "metadata": {},
   "outputs": [],
   "source": [
    "Y=df['contnum']\n",
    "cont=df['cont']\n",
    "name=df['name']\n",
    "X=df\n",
    "X.drop(columns = 'cont', inplace=True)\n",
    "X.drop(columns = 'contnum', inplace=True)\n",
    "X.drop(columns = 'name', inplace=True)"
   ]
  },
  {
   "cell_type": "code",
   "execution_count": 1060,
   "metadata": {},
   "outputs": [
    {
     "name": "stdout",
     "output_type": "stream",
     "text": [
      "[1 2 3 4 5 6]\n"
     ]
    }
   ],
   "source": [
    "print(np.unique(Y))"
   ]
  },
  {
   "cell_type": "code",
   "execution_count": 1061,
   "metadata": {
    "scrolled": false
   },
   "outputs": [
    {
     "data": {
      "text/html": [
       "<div>\n",
       "<style scoped>\n",
       "    .dataframe tbody tr th:only-of-type {\n",
       "        vertical-align: middle;\n",
       "    }\n",
       "\n",
       "    .dataframe tbody tr th {\n",
       "        vertical-align: top;\n",
       "    }\n",
       "\n",
       "    .dataframe thead th {\n",
       "        text-align: right;\n",
       "    }\n",
       "</style>\n",
       "<table border=\"1\" class=\"dataframe\">\n",
       "  <thead>\n",
       "    <tr style=\"text-align: right;\">\n",
       "      <th></th>\n",
       "      <th>Pop2013</th>\n",
       "      <th>Area_sqkm</th>\n",
       "      <th>coastline_km</th>\n",
       "      <th>PopGrowthRate</th>\n",
       "      <th>BirthRate</th>\n",
       "      <th>DeathRate</th>\n",
       "      <th>NetMigrationRate</th>\n",
       "      <th>MaternalMortalityRate</th>\n",
       "      <th>IMR</th>\n",
       "      <th>LifeExpectancy</th>\n",
       "      <th>TotalFertilityRate</th>\n",
       "      <th>AdultObesityRate</th>\n",
       "      <th>HealthExpend</th>\n",
       "      <th>GDP PPP</th>\n",
       "      <th>GDP_PPP_percapita</th>\n",
       "      <th>Percent Urban</th>\n",
       "      <th>PopDens</th>\n",
       "      <th>Coast_Area_Ratio</th>\n",
       "    </tr>\n",
       "  </thead>\n",
       "  <tbody>\n",
       "    <tr>\n",
       "      <th>218</th>\n",
       "      <td>2676740.0</td>\n",
       "      <td>5860.0</td>\n",
       "      <td>0.0</td>\n",
       "      <td>2.03</td>\n",
       "      <td>23.81</td>\n",
       "      <td>3.53</td>\n",
       "      <td>0.00</td>\n",
       "      <td>64.0</td>\n",
       "      <td>13.98</td>\n",
       "      <td>75.46</td>\n",
       "      <td>2.91</td>\n",
       "      <td>19.95</td>\n",
       "      <td>6.6</td>\n",
       "      <td>8.022000e+09</td>\n",
       "      <td>2900.0</td>\n",
       "      <td>74.3</td>\n",
       "      <td>456.781570</td>\n",
       "      <td>0.000000</td>\n",
       "    </tr>\n",
       "    <tr>\n",
       "      <th>219</th>\n",
       "      <td>538811.0</td>\n",
       "      <td>266000.0</td>\n",
       "      <td>1110.0</td>\n",
       "      <td>2.96</td>\n",
       "      <td>31.18</td>\n",
       "      <td>8.64</td>\n",
       "      <td>-0.06</td>\n",
       "      <td>66.0</td>\n",
       "      <td>57.50</td>\n",
       "      <td>61.90</td>\n",
       "      <td>4.15</td>\n",
       "      <td>19.95</td>\n",
       "      <td>6.6</td>\n",
       "      <td>9.065000e+08</td>\n",
       "      <td>2500.0</td>\n",
       "      <td>82.0</td>\n",
       "      <td>2.025605</td>\n",
       "      <td>0.004173</td>\n",
       "    </tr>\n",
       "    <tr>\n",
       "      <th>220</th>\n",
       "      <td>25408288.0</td>\n",
       "      <td>527968.0</td>\n",
       "      <td>1906.0</td>\n",
       "      <td>2.50</td>\n",
       "      <td>31.63</td>\n",
       "      <td>6.64</td>\n",
       "      <td>0.00</td>\n",
       "      <td>200.0</td>\n",
       "      <td>51.93</td>\n",
       "      <td>64.47</td>\n",
       "      <td>4.27</td>\n",
       "      <td>14.50</td>\n",
       "      <td>5.2</td>\n",
       "      <td>6.006000e+10</td>\n",
       "      <td>2300.0</td>\n",
       "      <td>32.3</td>\n",
       "      <td>48.124674</td>\n",
       "      <td>0.003610</td>\n",
       "    </tr>\n",
       "    <tr>\n",
       "      <th>221</th>\n",
       "      <td>14222233.0</td>\n",
       "      <td>752618.0</td>\n",
       "      <td>0.0</td>\n",
       "      <td>2.89</td>\n",
       "      <td>42.79</td>\n",
       "      <td>13.17</td>\n",
       "      <td>-0.75</td>\n",
       "      <td>440.0</td>\n",
       "      <td>68.58</td>\n",
       "      <td>51.51</td>\n",
       "      <td>5.81</td>\n",
       "      <td>3.60</td>\n",
       "      <td>5.9</td>\n",
       "      <td>2.436000e+10</td>\n",
       "      <td>1700.0</td>\n",
       "      <td>39.2</td>\n",
       "      <td>18.897014</td>\n",
       "      <td>0.000000</td>\n",
       "    </tr>\n",
       "    <tr>\n",
       "      <th>222</th>\n",
       "      <td>13182908.0</td>\n",
       "      <td>390757.0</td>\n",
       "      <td>0.0</td>\n",
       "      <td>4.38</td>\n",
       "      <td>32.41</td>\n",
       "      <td>11.40</td>\n",
       "      <td>22.76</td>\n",
       "      <td>570.0</td>\n",
       "      <td>27.25</td>\n",
       "      <td>53.86</td>\n",
       "      <td>3.58</td>\n",
       "      <td>7.00</td>\n",
       "      <td>6.6</td>\n",
       "      <td>7.366000e+09</td>\n",
       "      <td>600.0</td>\n",
       "      <td>38.6</td>\n",
       "      <td>33.736844</td>\n",
       "      <td>0.000000</td>\n",
       "    </tr>\n",
       "  </tbody>\n",
       "</table>\n",
       "</div>"
      ],
      "text/plain": [
       "        Pop2013  Area_sqkm  coastline_km  PopGrowthRate  BirthRate  DeathRate  \\\n",
       "218   2676740.0     5860.0           0.0           2.03      23.81       3.53   \n",
       "219    538811.0   266000.0        1110.0           2.96      31.18       8.64   \n",
       "220  25408288.0   527968.0        1906.0           2.50      31.63       6.64   \n",
       "221  14222233.0   752618.0           0.0           2.89      42.79      13.17   \n",
       "222  13182908.0   390757.0           0.0           4.38      32.41      11.40   \n",
       "\n",
       "     NetMigrationRate  MaternalMortalityRate    IMR  LifeExpectancy  \\\n",
       "218              0.00                   64.0  13.98           75.46   \n",
       "219             -0.06                   66.0  57.50           61.90   \n",
       "220              0.00                  200.0  51.93           64.47   \n",
       "221             -0.75                  440.0  68.58           51.51   \n",
       "222             22.76                  570.0  27.25           53.86   \n",
       "\n",
       "     TotalFertilityRate  AdultObesityRate  HealthExpend       GDP PPP  \\\n",
       "218                2.91             19.95           6.6  8.022000e+09   \n",
       "219                4.15             19.95           6.6  9.065000e+08   \n",
       "220                4.27             14.50           5.2  6.006000e+10   \n",
       "221                5.81              3.60           5.9  2.436000e+10   \n",
       "222                3.58              7.00           6.6  7.366000e+09   \n",
       "\n",
       "     GDP_PPP_percapita  Percent Urban     PopDens  Coast_Area_Ratio  \n",
       "218             2900.0           74.3  456.781570          0.000000  \n",
       "219             2500.0           82.0    2.025605          0.004173  \n",
       "220             2300.0           32.3   48.124674          0.003610  \n",
       "221             1700.0           39.2   18.897014          0.000000  \n",
       "222              600.0           38.6   33.736844          0.000000  "
      ]
     },
     "execution_count": 1061,
     "metadata": {},
     "output_type": "execute_result"
    }
   ],
   "source": [
    "X.tail()"
   ]
  },
  {
   "cell_type": "markdown",
   "metadata": {},
   "source": [
    "## KNearestNeighbors Classifier"
   ]
  },
  {
   "cell_type": "code",
   "execution_count": 1062,
   "metadata": {
    "scrolled": true
   },
   "outputs": [
    {
     "name": "stdout",
     "output_type": "stream",
     "text": [
      "Best Params: {'n_neighbors': 5, 'p': 1, 'weights': 'uniform'}\n",
      "Train F1: [0.54545455 0.56896552 0.52631579 0.33333333 0.54545455 0.        ]\n",
      "Test Classification Report:\n",
      "             precision    recall  f1-score   support\n",
      "\n",
      "          1       0.38      0.33      0.35         9\n",
      "          2       0.33      0.38      0.35         8\n",
      "          3       0.36      0.50      0.42         8\n",
      "          4       0.50      0.17      0.25         6\n",
      "          5       0.25      0.50      0.33         2\n",
      "          6       0.00      0.00      0.00         1\n",
      "\n",
      "avg / total       0.37      0.35      0.34        34\n",
      "\n",
      "Train Accuracy: 0.5079365079365079\tTest accuracy: 0.35294117647058826\n"
     ]
    },
    {
     "name": "stderr",
     "output_type": "stream",
     "text": [
      "C:\\Users\\Izzy\\Anaconda3\\lib\\site-packages\\sklearn\\metrics\\classification.py:1135: UndefinedMetricWarning: F-score is ill-defined and being set to 0.0 in labels with no predicted samples.\n",
      "  'precision', 'predicted', average, warn_for)\n",
      "C:\\Users\\Izzy\\Anaconda3\\lib\\site-packages\\sklearn\\metrics\\classification.py:1135: UndefinedMetricWarning: Precision and F-score are ill-defined and being set to 0.0 in labels with no predicted samples.\n",
      "  'precision', 'predicted', average, warn_for)\n"
     ]
    }
   ],
   "source": [
    "X_train, X_test, y_train, y_test = train_test_split(X, Y, test_size=0.15, random_state=18)\n",
    "clf = KNeighborsClassifier()\n",
    "gridsearch = GridSearchCV(clf, {\"n_neighbors\": [1, 3, 5, 7,], \"weights\": ['uniform', 'distance'], \n",
    "                                'p': [1, 2, 3]})\n",
    "gridsearch.fit(X_train, y_train)\n",
    "print(\"Best Params: {}\".format(gridsearch.best_params_, average=None))\n",
    "y_pred_train = gridsearch.predict(X_train)\n",
    "print(\"Train F1: {}\".format(f1_score(y_train, y_pred_train, average=None)))\n",
    "print(\"Test Classification Report:\")\n",
    "y_pred_test = gridsearch.predict(X_test)\n",
    "print(classification_report(y_test, y_pred_test))\n",
    "print(\"Train Accuracy: {}\\tTest accuracy: {}\".format(accuracy_score(y_train, y_pred_train),\n",
    "                                                     accuracy_score(y_test, y_pred_test)))"
   ]
  },
  {
   "cell_type": "markdown",
   "metadata": {},
   "source": [
    "Right out of the gate we can see that our knn model is not performing very well.  Even the train accuracy isn't very good, and the 35% accuracy on the testing data is abysmal. \n",
    "\n",
    "We wondered if the model would work better if we simplified the data a bit- turning a few of the continuous features into a score of relative advantage.  Below we do just that "
   ]
  },
  {
   "cell_type": "code",
   "execution_count": 1063,
   "metadata": {},
   "outputs": [],
   "source": [
    "X_score=X.copy()"
   ]
  },
  {
   "cell_type": "code",
   "execution_count": 1064,
   "metadata": {},
   "outputs": [],
   "source": [
    "def quintiles(var):\n",
    "    X_score[var+'q'] = pd.qcut(X_score[var] ,5, labels=[1,2,3,4,5]).astype(float)"
   ]
  },
  {
   "cell_type": "code",
   "execution_count": 1065,
   "metadata": {},
   "outputs": [],
   "source": [
    "quintiles('IMR')\n",
    "quintiles('HealthExpend')\n",
    "quintiles('LifeExpectancy')\n",
    "quintiles('GDP_PPP_percapita')"
   ]
  },
  {
   "cell_type": "code",
   "execution_count": 1066,
   "metadata": {},
   "outputs": [],
   "source": [
    "X_score['IMRq']*=-1\n",
    "X_score['advantage_score'] = X_score.loc[:, 'IMRq':'GDP_PPP_percapitaq'].sum(axis=1)"
   ]
  },
  {
   "cell_type": "code",
   "execution_count": 1067,
   "metadata": {},
   "outputs": [],
   "source": [
    "X_score.drop(columns = 'IMR', inplace=True)\n",
    "X_score.drop(columns = 'HealthExpend', inplace=True)\n",
    "X_score.drop(columns = 'LifeExpectancy', inplace=True)\n",
    "X_score.drop(columns = 'GDP_PPP_percapita', inplace=True)"
   ]
  },
  {
   "cell_type": "code",
   "execution_count": 1068,
   "metadata": {},
   "outputs": [],
   "source": [
    "X_score.drop(columns = 'IMRq', inplace=True)\n",
    "X_score.drop(columns = 'HealthExpendq', inplace=True)\n",
    "X_score.drop(columns = 'LifeExpectancyq', inplace=True)\n",
    "X_score.drop(columns = 'GDP_PPP_percapitaq', inplace=True)"
   ]
  },
  {
   "cell_type": "code",
   "execution_count": 1069,
   "metadata": {},
   "outputs": [
    {
     "data": {
      "text/html": [
       "<div>\n",
       "<style scoped>\n",
       "    .dataframe tbody tr th:only-of-type {\n",
       "        vertical-align: middle;\n",
       "    }\n",
       "\n",
       "    .dataframe tbody tr th {\n",
       "        vertical-align: top;\n",
       "    }\n",
       "\n",
       "    .dataframe thead th {\n",
       "        text-align: right;\n",
       "    }\n",
       "</style>\n",
       "<table border=\"1\" class=\"dataframe\">\n",
       "  <thead>\n",
       "    <tr style=\"text-align: right;\">\n",
       "      <th></th>\n",
       "      <th>Pop2013</th>\n",
       "      <th>Area_sqkm</th>\n",
       "      <th>coastline_km</th>\n",
       "      <th>PopGrowthRate</th>\n",
       "      <th>BirthRate</th>\n",
       "      <th>DeathRate</th>\n",
       "      <th>NetMigrationRate</th>\n",
       "      <th>MaternalMortalityRate</th>\n",
       "      <th>TotalFertilityRate</th>\n",
       "      <th>AdultObesityRate</th>\n",
       "      <th>GDP PPP</th>\n",
       "      <th>Percent Urban</th>\n",
       "      <th>PopDens</th>\n",
       "      <th>Coast_Area_Ratio</th>\n",
       "      <th>advantage_score</th>\n",
       "    </tr>\n",
       "  </thead>\n",
       "  <tbody>\n",
       "    <tr>\n",
       "      <th>0</th>\n",
       "      <td>31108077.0</td>\n",
       "      <td>652230.0</td>\n",
       "      <td>0.0</td>\n",
       "      <td>2.25</td>\n",
       "      <td>39.05</td>\n",
       "      <td>14.35</td>\n",
       "      <td>-2.16</td>\n",
       "      <td>460.0</td>\n",
       "      <td>5.54</td>\n",
       "      <td>2.2</td>\n",
       "      <td>3.429000e+10</td>\n",
       "      <td>23.5</td>\n",
       "      <td>47.694950</td>\n",
       "      <td>0.000000</td>\n",
       "      <td>1.0</td>\n",
       "    </tr>\n",
       "    <tr>\n",
       "      <th>1</th>\n",
       "      <td>3011405.0</td>\n",
       "      <td>28748.0</td>\n",
       "      <td>362.0</td>\n",
       "      <td>0.29</td>\n",
       "      <td>12.57</td>\n",
       "      <td>6.36</td>\n",
       "      <td>-3.32</td>\n",
       "      <td>27.0</td>\n",
       "      <td>1.49</td>\n",
       "      <td>21.3</td>\n",
       "      <td>2.654000e+10</td>\n",
       "      <td>52.0</td>\n",
       "      <td>104.751809</td>\n",
       "      <td>0.012592</td>\n",
       "      <td>7.0</td>\n",
       "    </tr>\n",
       "    <tr>\n",
       "      <th>2</th>\n",
       "      <td>38087812.0</td>\n",
       "      <td>2381741.0</td>\n",
       "      <td>998.0</td>\n",
       "      <td>1.90</td>\n",
       "      <td>24.25</td>\n",
       "      <td>4.31</td>\n",
       "      <td>-0.93</td>\n",
       "      <td>97.0</td>\n",
       "      <td>2.78</td>\n",
       "      <td>16.0</td>\n",
       "      <td>2.774000e+11</td>\n",
       "      <td>73.0</td>\n",
       "      <td>15.991584</td>\n",
       "      <td>0.000419</td>\n",
       "      <td>3.0</td>\n",
       "    </tr>\n",
       "    <tr>\n",
       "      <th>3</th>\n",
       "      <td>54719.0</td>\n",
       "      <td>199.0</td>\n",
       "      <td>116.0</td>\n",
       "      <td>-0.40</td>\n",
       "      <td>22.84</td>\n",
       "      <td>4.62</td>\n",
       "      <td>-22.17</td>\n",
       "      <td>66.0</td>\n",
       "      <td>3.04</td>\n",
       "      <td>74.6</td>\n",
       "      <td>5.753000e+08</td>\n",
       "      <td>93.0</td>\n",
       "      <td>274.969849</td>\n",
       "      <td>0.582915</td>\n",
       "      <td>7.0</td>\n",
       "    </tr>\n",
       "    <tr>\n",
       "      <th>4</th>\n",
       "      <td>85293.0</td>\n",
       "      <td>468.0</td>\n",
       "      <td>0.0</td>\n",
       "      <td>0.22</td>\n",
       "      <td>8.88</td>\n",
       "      <td>6.67</td>\n",
       "      <td>0.00</td>\n",
       "      <td>66.0</td>\n",
       "      <td>1.37</td>\n",
       "      <td>25.2</td>\n",
       "      <td>3.163000e+09</td>\n",
       "      <td>88.0</td>\n",
       "      <td>182.250000</td>\n",
       "      <td>0.000000</td>\n",
       "      <td>13.0</td>\n",
       "    </tr>\n",
       "  </tbody>\n",
       "</table>\n",
       "</div>"
      ],
      "text/plain": [
       "      Pop2013  Area_sqkm  coastline_km  PopGrowthRate  BirthRate  DeathRate  \\\n",
       "0  31108077.0   652230.0           0.0           2.25      39.05      14.35   \n",
       "1   3011405.0    28748.0         362.0           0.29      12.57       6.36   \n",
       "2  38087812.0  2381741.0         998.0           1.90      24.25       4.31   \n",
       "3     54719.0      199.0         116.0          -0.40      22.84       4.62   \n",
       "4     85293.0      468.0           0.0           0.22       8.88       6.67   \n",
       "\n",
       "   NetMigrationRate  MaternalMortalityRate  TotalFertilityRate  \\\n",
       "0             -2.16                  460.0                5.54   \n",
       "1             -3.32                   27.0                1.49   \n",
       "2             -0.93                   97.0                2.78   \n",
       "3            -22.17                   66.0                3.04   \n",
       "4              0.00                   66.0                1.37   \n",
       "\n",
       "   AdultObesityRate       GDP PPP  Percent Urban     PopDens  \\\n",
       "0               2.2  3.429000e+10           23.5   47.694950   \n",
       "1              21.3  2.654000e+10           52.0  104.751809   \n",
       "2              16.0  2.774000e+11           73.0   15.991584   \n",
       "3              74.6  5.753000e+08           93.0  274.969849   \n",
       "4              25.2  3.163000e+09           88.0  182.250000   \n",
       "\n",
       "   Coast_Area_Ratio  advantage_score  \n",
       "0          0.000000              1.0  \n",
       "1          0.012592              7.0  \n",
       "2          0.000419              3.0  \n",
       "3          0.582915              7.0  \n",
       "4          0.000000             13.0  "
      ]
     },
     "execution_count": 1069,
     "metadata": {},
     "output_type": "execute_result"
    }
   ],
   "source": [
    "X_score.head()"
   ]
  },
  {
   "cell_type": "code",
   "execution_count": 1070,
   "metadata": {
    "scrolled": true
   },
   "outputs": [
    {
     "name": "stdout",
     "output_type": "stream",
     "text": [
      "Best Params: {'n_neighbors': 5, 'p': 1, 'weights': 'uniform'}\n",
      "Train F1: [0.54545455 0.56896552 0.52631579 0.33333333 0.54545455 0.        ]\n",
      "Test Classification Report:\n",
      "             precision    recall  f1-score   support\n",
      "\n",
      "          1       0.38      0.33      0.35         9\n",
      "          2       0.33      0.38      0.35         8\n",
      "          3       0.36      0.50      0.42         8\n",
      "          4       0.50      0.17      0.25         6\n",
      "          5       0.25      0.50      0.33         2\n",
      "          6       0.00      0.00      0.00         1\n",
      "\n",
      "avg / total       0.37      0.35      0.34        34\n",
      "\n",
      "Train Accuracy: 0.5079365079365079\tTest accuracy: 0.35294117647058826\n"
     ]
    },
    {
     "name": "stderr",
     "output_type": "stream",
     "text": [
      "C:\\Users\\Izzy\\Anaconda3\\lib\\site-packages\\sklearn\\metrics\\classification.py:1135: UndefinedMetricWarning: F-score is ill-defined and being set to 0.0 in labels with no predicted samples.\n",
      "  'precision', 'predicted', average, warn_for)\n",
      "C:\\Users\\Izzy\\Anaconda3\\lib\\site-packages\\sklearn\\metrics\\classification.py:1135: UndefinedMetricWarning: Precision and F-score are ill-defined and being set to 0.0 in labels with no predicted samples.\n",
      "  'precision', 'predicted', average, warn_for)\n"
     ]
    }
   ],
   "source": [
    "X_train, X_test, y_train, y_test = train_test_split(X_score, Y, test_size=0.15, random_state=18)\n",
    "clf = KNeighborsClassifier()\n",
    "gridsearch = GridSearchCV(clf, {\"n_neighbors\": [1, 3, 5, 7,], \"weights\": ['uniform', 'distance'], \n",
    "                                'p': [1, 2, 3]})\n",
    "gridsearch.fit(X_train, y_train)\n",
    "print(\"Best Params: {}\".format(gridsearch.best_params_, average=None))\n",
    "y_pred_train = gridsearch.predict(X_train)\n",
    "print(\"Train F1: {}\".format(f1_score(y_train, y_pred_train, average=None)))\n",
    "print(\"Test Classification Report:\")\n",
    "y_pred_test = gridsearch.predict(X_test)\n",
    "print(classification_report(y_test, y_pred_test))\n",
    "print(\"Train Accuracy: {}\\tTest accuracy: {}\".format(accuracy_score(y_train, y_pred_train),\n",
    "                                                     accuracy_score(y_test, y_pred_test)))"
   ]
  },
  {
   "cell_type": "markdown",
   "metadata": {},
   "source": [
    "Unfortunately, this feature engineering had no effect on the accuracy of our model. Instead, we turn to a new model.\n",
    "\n",
    "## Random Forest Classifier\n",
    "\n",
    "We decided to try our random forest model on two different sets of the data.  \n",
    "\n",
    "The first model we feed the same dataframe as the last knn model- the one that includes the score of advantage.\n",
    "\n",
    "For the second model, knowing that decision trees should theoretically work best on categorical data, we run the model on a dataset in which we have reduced all of our features into binned categorical quintiles.  \n",
    "\n",
    "Immediately below we create that categorical data. "
   ]
  },
  {
   "cell_type": "code",
   "execution_count": 1071,
   "metadata": {},
   "outputs": [],
   "source": [
    "#X_cat is going to be our categorical dataset\n",
    "X_cat=X.copy()"
   ]
  },
  {
   "cell_type": "code",
   "execution_count": 1072,
   "metadata": {},
   "outputs": [],
   "source": [
    "def quintiles(var):\n",
    "    X_cat[var+'q'] = pd.qcut(X_cat[var] ,5, labels=[1,2,3,4,5]).astype(float)"
   ]
  },
  {
   "cell_type": "code",
   "execution_count": 1073,
   "metadata": {},
   "outputs": [],
   "source": [
    "quintiles('Pop2013')\n",
    "quintiles('Area_sqkm')\n",
    "quintiles('coastline_km')\n",
    "quintiles('PopGrowthRate')\n",
    "quintiles('BirthRate')\n",
    "quintiles('DeathRate')\n",
    "quintiles('NetMigrationRate')\n",
    "quintiles('MaternalMortalityRate')\n",
    "quintiles('TotalFertilityRate')\n",
    "quintiles('AdultObesityRate')\n",
    "quintiles('GDP PPP')\n",
    "quintiles('Percent Urban')\n",
    "quintiles('PopDens')\n",
    "quintiles('Coast_Area_Ratio')\n",
    "quintiles('IMR')\n",
    "quintiles('HealthExpend')\n",
    "quintiles('LifeExpectancy')\n",
    "quintiles('GDP_PPP_percapita')"
   ]
  },
  {
   "cell_type": "code",
   "execution_count": 1074,
   "metadata": {},
   "outputs": [],
   "source": [
    "X_cat.drop(columns = X_cat.loc[:, 'Pop2013':'Coast_Area_Ratio'], inplace=True)"
   ]
  },
  {
   "cell_type": "code",
   "execution_count": 1075,
   "metadata": {},
   "outputs": [
    {
     "data": {
      "text/html": [
       "<div>\n",
       "<style scoped>\n",
       "    .dataframe tbody tr th:only-of-type {\n",
       "        vertical-align: middle;\n",
       "    }\n",
       "\n",
       "    .dataframe tbody tr th {\n",
       "        vertical-align: top;\n",
       "    }\n",
       "\n",
       "    .dataframe thead th {\n",
       "        text-align: right;\n",
       "    }\n",
       "</style>\n",
       "<table border=\"1\" class=\"dataframe\">\n",
       "  <thead>\n",
       "    <tr style=\"text-align: right;\">\n",
       "      <th></th>\n",
       "      <th>Pop2013q</th>\n",
       "      <th>Area_sqkmq</th>\n",
       "      <th>coastline_kmq</th>\n",
       "      <th>PopGrowthRateq</th>\n",
       "      <th>BirthRateq</th>\n",
       "      <th>DeathRateq</th>\n",
       "      <th>NetMigrationRateq</th>\n",
       "      <th>MaternalMortalityRateq</th>\n",
       "      <th>TotalFertilityRateq</th>\n",
       "      <th>AdultObesityRateq</th>\n",
       "      <th>GDP PPPq</th>\n",
       "      <th>Percent Urbanq</th>\n",
       "      <th>PopDensq</th>\n",
       "      <th>Coast_Area_Ratioq</th>\n",
       "      <th>IMRq</th>\n",
       "      <th>HealthExpendq</th>\n",
       "      <th>LifeExpectancyq</th>\n",
       "      <th>GDP_PPP_percapitaq</th>\n",
       "    </tr>\n",
       "  </thead>\n",
       "  <tbody>\n",
       "    <tr>\n",
       "      <th>0</th>\n",
       "      <td>5.0</td>\n",
       "      <td>5.0</td>\n",
       "      <td>1.0</td>\n",
       "      <td>5.0</td>\n",
       "      <td>5.0</td>\n",
       "      <td>5.0</td>\n",
       "      <td>2.0</td>\n",
       "      <td>5.0</td>\n",
       "      <td>5.0</td>\n",
       "      <td>1.0</td>\n",
       "      <td>3.0</td>\n",
       "      <td>1.0</td>\n",
       "      <td>2.0</td>\n",
       "      <td>1.0</td>\n",
       "      <td>5.0</td>\n",
       "      <td>4.0</td>\n",
       "      <td>1.0</td>\n",
       "      <td>1.0</td>\n",
       "    </tr>\n",
       "    <tr>\n",
       "      <th>1</th>\n",
       "      <td>2.0</td>\n",
       "      <td>2.0</td>\n",
       "      <td>3.0</td>\n",
       "      <td>2.0</td>\n",
       "      <td>2.0</td>\n",
       "      <td>2.0</td>\n",
       "      <td>1.0</td>\n",
       "      <td>2.0</td>\n",
       "      <td>1.0</td>\n",
       "      <td>4.0</td>\n",
       "      <td>3.0</td>\n",
       "      <td>3.0</td>\n",
       "      <td>3.0</td>\n",
       "      <td>3.0</td>\n",
       "      <td>3.0</td>\n",
       "      <td>3.0</td>\n",
       "      <td>4.0</td>\n",
       "      <td>3.0</td>\n",
       "    </tr>\n",
       "    <tr>\n",
       "      <th>2</th>\n",
       "      <td>5.0</td>\n",
       "      <td>5.0</td>\n",
       "      <td>4.0</td>\n",
       "      <td>4.0</td>\n",
       "      <td>4.0</td>\n",
       "      <td>1.0</td>\n",
       "      <td>2.0</td>\n",
       "      <td>4.0</td>\n",
       "      <td>4.0</td>\n",
       "      <td>2.0</td>\n",
       "      <td>4.0</td>\n",
       "      <td>4.0</td>\n",
       "      <td>1.0</td>\n",
       "      <td>2.0</td>\n",
       "      <td>4.0</td>\n",
       "      <td>1.0</td>\n",
       "      <td>4.0</td>\n",
       "      <td>2.0</td>\n",
       "    </tr>\n",
       "    <tr>\n",
       "      <th>3</th>\n",
       "      <td>1.0</td>\n",
       "      <td>1.0</td>\n",
       "      <td>2.0</td>\n",
       "      <td>1.0</td>\n",
       "      <td>4.0</td>\n",
       "      <td>1.0</td>\n",
       "      <td>1.0</td>\n",
       "      <td>3.0</td>\n",
       "      <td>4.0</td>\n",
       "      <td>5.0</td>\n",
       "      <td>1.0</td>\n",
       "      <td>5.0</td>\n",
       "      <td>5.0</td>\n",
       "      <td>5.0</td>\n",
       "      <td>2.0</td>\n",
       "      <td>3.0</td>\n",
       "      <td>3.0</td>\n",
       "      <td>3.0</td>\n",
       "    </tr>\n",
       "    <tr>\n",
       "      <th>4</th>\n",
       "      <td>1.0</td>\n",
       "      <td>1.0</td>\n",
       "      <td>1.0</td>\n",
       "      <td>2.0</td>\n",
       "      <td>1.0</td>\n",
       "      <td>2.0</td>\n",
       "      <td>3.0</td>\n",
       "      <td>3.0</td>\n",
       "      <td>1.0</td>\n",
       "      <td>4.0</td>\n",
       "      <td>2.0</td>\n",
       "      <td>5.0</td>\n",
       "      <td>4.0</td>\n",
       "      <td>1.0</td>\n",
       "      <td>1.0</td>\n",
       "      <td>4.0</td>\n",
       "      <td>5.0</td>\n",
       "      <td>5.0</td>\n",
       "    </tr>\n",
       "  </tbody>\n",
       "</table>\n",
       "</div>"
      ],
      "text/plain": [
       "   Pop2013q  Area_sqkmq  coastline_kmq  PopGrowthRateq  BirthRateq  \\\n",
       "0       5.0         5.0            1.0             5.0         5.0   \n",
       "1       2.0         2.0            3.0             2.0         2.0   \n",
       "2       5.0         5.0            4.0             4.0         4.0   \n",
       "3       1.0         1.0            2.0             1.0         4.0   \n",
       "4       1.0         1.0            1.0             2.0         1.0   \n",
       "\n",
       "   DeathRateq  NetMigrationRateq  MaternalMortalityRateq  TotalFertilityRateq  \\\n",
       "0         5.0                2.0                     5.0                  5.0   \n",
       "1         2.0                1.0                     2.0                  1.0   \n",
       "2         1.0                2.0                     4.0                  4.0   \n",
       "3         1.0                1.0                     3.0                  4.0   \n",
       "4         2.0                3.0                     3.0                  1.0   \n",
       "\n",
       "   AdultObesityRateq  GDP PPPq  Percent Urbanq  PopDensq  Coast_Area_Ratioq  \\\n",
       "0                1.0       3.0             1.0       2.0                1.0   \n",
       "1                4.0       3.0             3.0       3.0                3.0   \n",
       "2                2.0       4.0             4.0       1.0                2.0   \n",
       "3                5.0       1.0             5.0       5.0                5.0   \n",
       "4                4.0       2.0             5.0       4.0                1.0   \n",
       "\n",
       "   IMRq  HealthExpendq  LifeExpectancyq  GDP_PPP_percapitaq  \n",
       "0   5.0            4.0              1.0                 1.0  \n",
       "1   3.0            3.0              4.0                 3.0  \n",
       "2   4.0            1.0              4.0                 2.0  \n",
       "3   2.0            3.0              3.0                 3.0  \n",
       "4   1.0            4.0              5.0                 5.0  "
      ]
     },
     "execution_count": 1075,
     "metadata": {},
     "output_type": "execute_result"
    }
   ],
   "source": [
    "X_cat.head()"
   ]
  },
  {
   "cell_type": "code",
   "execution_count": 1076,
   "metadata": {},
   "outputs": [
    {
     "name": "stdout",
     "output_type": "stream",
     "text": [
      "1000 5 balanced\n",
      "1000 5 None\n",
      "1000 10 balanced\n",
      "1000 10 None\n",
      "1000 15 balanced\n",
      "1000 15 None\n",
      "750 5 balanced\n",
      "750 5 None\n",
      "750 10 balanced\n",
      "750 10 None\n",
      "750 15 balanced\n",
      "750 15 None\n",
      "500 5 balanced\n",
      "500 5 None\n",
      "500 10 balanced\n",
      "500 10 None\n",
      "500 15 balanced\n",
      "500 15 None\n"
     ]
    }
   ],
   "source": [
    "X_train, X_test, y_train, y_test = train_test_split(X_score, Y, test_size=0.15, random_state=18)\n",
    "\n",
    "n_estimators = [1000, 750, 500]\n",
    "max_depth = [5, 10, 15]\n",
    "class_weights = ['balanced', None]\n",
    "best_f1 = 0\n",
    "\n",
    "for est in n_estimators:\n",
    "    for depth in max_depth:\n",
    "        for wgt in class_weights:\n",
    "            print(est, depth, wgt)\n",
    "            rf = RandomForestClassifier(n_estimators=est, max_depth=depth, oob_score=True, class_weight=wgt)\n",
    "            rf.fit(X_train, y_train)\n",
    "            f1 = f1_score(y_train, np.argmax(rf.oob_decision_function_ , 1), average='micro')\n",
    "            if f1 > best_f1:\n",
    "                best_f1 = f1\n",
    "                best_params = (est, depth, wgt)"
   ]
  },
  {
   "cell_type": "code",
   "execution_count": 1077,
   "metadata": {},
   "outputs": [
    {
     "name": "stdout",
     "output_type": "stream",
     "text": [
      "Best OOB F1: 0.06349206349206349\n",
      "Best params: (750, 5, 'balanced')\n"
     ]
    }
   ],
   "source": [
    "print(\"Best OOB F1: {}\".format(best_f1))\n",
    "print(\"Best params: {}\".format(best_params))"
   ]
  },
  {
   "cell_type": "code",
   "execution_count": 1078,
   "metadata": {},
   "outputs": [
    {
     "name": "stdout",
     "output_type": "stream",
     "text": [
      "             precision    recall  f1-score   support\n",
      "\n",
      "          1       0.89      0.98      0.93        43\n",
      "          2       1.00      0.89      0.94        47\n",
      "          3       0.95      1.00      0.98        40\n",
      "          4       0.84      0.96      0.90        28\n",
      "          5       1.00      0.89      0.94        19\n",
      "          6       1.00      0.75      0.86        12\n",
      "\n",
      "avg / total       0.94      0.94      0.94       189\n",
      "\n"
     ]
    }
   ],
   "source": [
    "rf = RandomForestClassifier(n_estimators=750, max_depth=5, class_weight=None)\n",
    "rf.fit(X_train, y_train)\n",
    "train_predictions5 = rf.predict(X_train)\n",
    "print(classification_report(y_train, train_predictions5))"
   ]
  },
  {
   "cell_type": "code",
   "execution_count": 1079,
   "metadata": {},
   "outputs": [
    {
     "name": "stdout",
     "output_type": "stream",
     "text": [
      "             precision    recall  f1-score   support\n",
      "\n",
      "          1       0.78      0.78      0.78         9\n",
      "          2       0.86      0.75      0.80         8\n",
      "          3       0.89      1.00      0.94         8\n",
      "          4       0.57      0.67      0.62         6\n",
      "          5       1.00      1.00      1.00         2\n",
      "          6       0.00      0.00      0.00         1\n",
      "\n",
      "avg / total       0.78      0.79      0.78        34\n",
      "\n"
     ]
    },
    {
     "name": "stderr",
     "output_type": "stream",
     "text": [
      "C:\\Users\\Izzy\\Anaconda3\\lib\\site-packages\\sklearn\\metrics\\classification.py:1135: UndefinedMetricWarning: Precision and F-score are ill-defined and being set to 0.0 in labels with no predicted samples.\n",
      "  'precision', 'predicted', average, warn_for)\n"
     ]
    }
   ],
   "source": [
    "rf = RandomForestClassifier(n_estimators=750, max_depth=5, class_weight=None)\n",
    "rf.fit(X_train, y_train)\n",
    "test_pred1 = rf.predict(X_test)\n",
    "print(classification_report(y_test, test_pred1))"
   ]
  },
  {
   "cell_type": "code",
   "execution_count": 1080,
   "metadata": {},
   "outputs": [
    {
     "data": {
      "text/plain": [
       "0.9257251026228827"
      ]
     },
     "execution_count": 1080,
     "metadata": {},
     "output_type": "execute_result"
    }
   ],
   "source": [
    "f1_score(y_train, train_predictions5, average = 'macro')"
   ]
  },
  {
   "cell_type": "code",
   "execution_count": 1081,
   "metadata": {},
   "outputs": [],
   "source": [
    "from sklearn.model_selection import learning_curve\n",
    "from sklearn.metrics import make_scorer\n",
    "## source: http://scikit-learn.org/0.15/auto_examples/plot_learning_curve.html\n",
    "def plot_learning_curve(estimator, title, X, y, ylim=None, cv=None,\n",
    "                        n_jobs=1, train_sizes=np.linspace(.1, 1.0, 5)):\n",
    "    plt.figure()\n",
    "    plt.title(title)\n",
    "    if ylim is not None:\n",
    "        plt.ylim(*ylim)\n",
    "    plt.xlabel(\"Training examples\")\n",
    "    plt.ylabel(\"Score\")\n",
    "    train_sizes, train_scores, test_scores = learning_curve(estimator, X, y, cv=cv, n_jobs=n_jobs, train_sizes=train_sizes, scoring=make_scorer(mean_squared_error))\n",
    "    train_scores_mean = np.mean(train_scores, axis=1)\n",
    "    train_scores_std = np.std(train_scores, axis=1)\n",
    "    test_scores_mean = np.mean(test_scores, axis=1)\n",
    "    test_scores_std = np.std(test_scores, axis=1)\n",
    "    plt.grid()\n",
    "\n",
    "    plt.fill_between(train_sizes, train_scores_mean - train_scores_std,\n",
    "                     train_scores_mean + train_scores_std, alpha=0.1,\n",
    "                     color=\"r\")\n",
    "    plt.fill_between(train_sizes, test_scores_mean - test_scores_std,\n",
    "                     test_scores_mean + test_scores_std, alpha=0.1, color=\"g\")\n",
    "    plt.plot(train_sizes, train_scores_mean, 'o-', color=\"r\",\n",
    "             label=\"Training score\")\n",
    "    plt.plot(train_sizes, test_scores_mean, 'o-', color=\"g\",\n",
    "             label=\"Cross-validation score\")\n",
    "\n",
    "    plt.legend(loc=\"best\")\n",
    "    return plt"
   ]
  },
  {
   "cell_type": "code",
   "execution_count": 1082,
   "metadata": {
    "scrolled": true
   },
   "outputs": [
    {
     "data": {
      "text/plain": [
       "<module 'matplotlib.pyplot' from 'C:\\\\Users\\\\Izzy\\\\Anaconda3\\\\lib\\\\site-packages\\\\matplotlib\\\\pyplot.py'>"
      ]
     },
     "execution_count": 1082,
     "metadata": {},
     "output_type": "execute_result"
    },
    {
     "data": {
      "image/png": "[encoded data removed]",
      "text/plain": [
       "<Figure size 432x288 with 1 Axes>"
      ]
     },
     "metadata": {},
     "output_type": "display_data"
    }
   ],
   "source": [
    "plot_learning_curve(rf, \"Learning Curve\", X_train, y_train)"
   ]
  },
  {
   "cell_type": "code",
   "execution_count": 1083,
   "metadata": {
    "scrolled": true
   },
   "outputs": [
    {
     "name": "stderr",
     "output_type": "stream",
     "text": [
      "C:\\Users\\Izzy\\Anaconda3\\lib\\site-packages\\sklearn\\model_selection\\_split.py:605: Warning: The least populated class in y has only 1 members, which is too few. The minimum number of members in any class cannot be less than n_splits=3.\n",
      "  % (min_groups, self.n_splits)), Warning)\n"
     ]
    },
    {
     "data": {
      "text/plain": [
       "<module 'matplotlib.pyplot' from 'C:\\\\Users\\\\Izzy\\\\Anaconda3\\\\lib\\\\site-packages\\\\matplotlib\\\\pyplot.py'>"
      ]
     },
     "execution_count": 1083,
     "metadata": {},
     "output_type": "execute_result"
    },
    {
     "data": {
      "image/png": "[encoded data removed]",
      "text/plain": [
       "<Figure size 432x288 with 1 Axes>"
      ]
     },
     "metadata": {},
     "output_type": "display_data"
    }
   ],
   "source": [
    "plot_learning_curve(rf, \"Learning Curve\", X_test, y_test)"
   ]
  },
  {
   "cell_type": "markdown",
   "metadata": {},
   "source": [
    "Alright, we've run our first model with the more normal data set, and from the looks of our accuracy as well as the MSE visualed above by our learning curve, it looks like we're doing pretty well.  \n",
    "\n",
    "Now we'll see how the categorical version of the data runs in the model."
   ]
  },
  {
   "cell_type": "code",
   "execution_count": 1084,
   "metadata": {},
   "outputs": [
    {
     "name": "stdout",
     "output_type": "stream",
     "text": [
      "1000 5 balanced\n",
      "1000 5 None\n",
      "1000 10 balanced\n",
      "1000 10 None\n",
      "1000 15 balanced\n",
      "1000 15 None\n",
      "750 5 balanced\n",
      "750 5 None\n",
      "750 10 balanced\n",
      "750 10 None\n",
      "750 15 balanced\n",
      "750 15 None\n",
      "500 5 balanced\n",
      "500 5 None\n",
      "500 10 balanced\n",
      "500 10 None\n",
      "500 15 balanced\n",
      "500 15 None\n"
     ]
    }
   ],
   "source": [
    "X_train, X_test, y_train, y_test = train_test_split(X_cat, Y, test_size=0.15, random_state=18)\n",
    "\n",
    "n_estimators = [1000, 750, 500]\n",
    "max_depth = [5, 10, 15]\n",
    "class_weights = ['balanced', None]\n",
    "best_f1 = 0\n",
    "\n",
    "for est in n_estimators:\n",
    "    for depth in max_depth:\n",
    "        for wgt in class_weights:\n",
    "            print(est, depth, wgt)\n",
    "            rf = RandomForestClassifier(n_estimators=est, max_depth=depth, oob_score=True, class_weight=wgt)\n",
    "            rf.fit(X_train, y_train)\n",
    "            f1 = f1_score(y_train, np.argmax(rf.oob_decision_function_ , 1), average='micro')\n",
    "            if f1 > best_f1:\n",
    "                best_f1 = f1\n",
    "                best_params = (est, depth, wgt)"
   ]
  },
  {
   "cell_type": "code",
   "execution_count": 1085,
   "metadata": {},
   "outputs": [
    {
     "name": "stdout",
     "output_type": "stream",
     "text": [
      "Best OOB F1: 0.06878306878306878\n",
      "Best params: (1000, 5, 'balanced')\n"
     ]
    }
   ],
   "source": [
    "print(\"Best OOB F1: {}\".format(best_f1))\n",
    "print(\"Best params: {}\".format(best_params))"
   ]
  },
  {
   "cell_type": "code",
   "execution_count": 1086,
   "metadata": {},
   "outputs": [
    {
     "name": "stdout",
     "output_type": "stream",
     "text": [
      "             precision    recall  f1-score   support\n",
      "\n",
      "          1       0.77      0.95      0.85        43\n",
      "          2       1.00      0.87      0.93        47\n",
      "          3       0.83      1.00      0.91        40\n",
      "          4       0.92      0.82      0.87        28\n",
      "          5       1.00      0.79      0.88        19\n",
      "          6       1.00      0.58      0.74        12\n",
      "\n",
      "avg / total       0.90      0.88      0.88       189\n",
      "\n"
     ]
    }
   ],
   "source": [
    "rf = RandomForestClassifier(n_estimators=1000, max_depth=5, class_weight=None)\n",
    "rf.fit(X_train, y_train)\n",
    "train_predictions5 = rf.predict(X_train)\n",
    "print(classification_report(y_train, train_predictions5))"
   ]
  },
  {
   "cell_type": "code",
   "execution_count": 1087,
   "metadata": {},
   "outputs": [
    {
     "name": "stdout",
     "output_type": "stream",
     "text": [
      "             precision    recall  f1-score   support\n",
      "\n",
      "          1       0.78      0.78      0.78         9\n",
      "          2       0.86      0.75      0.80         8\n",
      "          3       0.89      1.00      0.94         8\n",
      "          4       0.50      0.67      0.57         6\n",
      "          5       1.00      0.50      0.67         2\n",
      "          6       0.00      0.00      0.00         1\n",
      "\n",
      "avg / total       0.76      0.76      0.76        34\n",
      "\n"
     ]
    },
    {
     "name": "stderr",
     "output_type": "stream",
     "text": [
      "C:\\Users\\Izzy\\Anaconda3\\lib\\site-packages\\sklearn\\metrics\\classification.py:1135: UndefinedMetricWarning: Precision and F-score are ill-defined and being set to 0.0 in labels with no predicted samples.\n",
      "  'precision', 'predicted', average, warn_for)\n"
     ]
    }
   ],
   "source": [
    "rf = RandomForestClassifier(n_estimators=1000, max_depth=5, class_weight=None)\n",
    "rf.fit(X_train, y_train)\n",
    "test_pred1 = rf.predict(X_test)\n",
    "print(classification_report(y_test, test_pred1))"
   ]
  },
  {
   "cell_type": "code",
   "execution_count": 1088,
   "metadata": {},
   "outputs": [
    {
     "data": {
      "text/plain": [
       "0.8636992220528787"
      ]
     },
     "execution_count": 1088,
     "metadata": {},
     "output_type": "execute_result"
    }
   ],
   "source": [
    "f1_score(y_train, train_predictions5, average = 'macro')"
   ]
  },
  {
   "cell_type": "markdown",
   "metadata": {},
   "source": [
    "Turns out the all categorical data set performed worse in the random forest model, despite our theoretical idea that it would be easier for the model to process and classify.  Who'd have thunk?"
   ]
  },
  {
   "cell_type": "markdown",
   "metadata": {},
   "source": [
    "Considered going on to try the model after dropping area and coastline.  Haven't done it yet though, but still could.  "
   ]
  },
  {
   "cell_type": "code",
   "execution_count": null,
   "metadata": {},
   "outputs": [],
   "source": []
  }
 ],
 "metadata": {
  "kernelspec": {
   "display_name": "Python 3",
   "language": "python",
   "name": "python3"
  },
  "language_info": {
   "codemirror_mode": {
    "name": "ipython",
    "version": 3
   },
   "file_extension": ".py",
   "mimetype": "text/x-python",
   "name": "python",
   "nbconvert_exporter": "python",
   "pygments_lexer": "ipython3",
   "version": "3.6.5"
  }
 },
 "nbformat": 4,
 "nbformat_minor": 2
}
